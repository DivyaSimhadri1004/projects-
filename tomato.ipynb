{
  "nbformat": 4,
  "nbformat_minor": 0,
  "metadata": {
    "colab": {
      "provenance": [],
      "mount_file_id": "1pzLWcCPr13UWLw4QZSQNySyABwI-9tlD",
      "authorship_tag": "ABX9TyMf9M4GR/iMnvxmc/XD99qN",
      "include_colab_link": true
    },
    "kernelspec": {
      "name": "python3",
      "display_name": "Python 3"
    },
    "language_info": {
      "name": "python"
    }
  },
  "cells": [
    {
      "cell_type": "markdown",
      "metadata": {
        "id": "view-in-github",
        "colab_type": "text"
      },
      "source": [
        "<a href=\"https://colab.research.google.com/github/DivyaSimhadri1004/projects-/blob/main/tomato.ipynb\" target=\"_parent\"><img src=\"https://colab.research.google.com/assets/colab-badge.svg\" alt=\"Open In Colab\"/></a>"
      ]
    },
    {
      "cell_type": "code",
      "execution_count": null,
      "metadata": {
        "colab": {
          "base_uri": "https://localhost:8080/"
        },
        "id": "bL2-2MtZmcz9",
        "outputId": "2934e757-64ca-4334-9c99-162165590595"
      },
      "outputs": [
        {
          "output_type": "stream",
          "name": "stdout",
          "text": [
            "Drive already mounted at /content/drive; to attempt to forcibly remount, call drive.mount(\"/content/drive\", force_remount=True).\n"
          ]
        }
      ],
      "source": [
        "from google.colab import drive\n",
        "drive.mount('/content/drive')\n"
      ]
    },
    {
      "cell_type": "code",
      "source": [
        "import os"
      ],
      "metadata": {
        "id": "iMzkLuSPmrJ9"
      },
      "execution_count": null,
      "outputs": []
    },
    {
      "cell_type": "code",
      "source": [
        "base_dir = '/content/drive/My Drive/Two Classes'\n"
      ],
      "metadata": {
        "id": "DTLjEMNBn8ID"
      },
      "execution_count": null,
      "outputs": []
    },
    {
      "cell_type": "code",
      "source": [
        "Healthy_dir = os.path.join(base_dir, 'Healthy')\n",
        "Reject_dir = os.path.join(base_dir, 'Reject')\n"
      ],
      "metadata": {
        "id": "58aqwl6VqvIP"
      },
      "execution_count": null,
      "outputs": []
    },
    {
      "cell_type": "code",
      "source": [
        "print(f\"Base directory: {base_dir}\")\n",
        "print(f\"Healthy directory: {Healthy_dir}\")\n",
        "print(f\"Rejected directory: {Reject_dir}\")"
      ],
      "metadata": {
        "colab": {
          "base_uri": "https://localhost:8080/"
        },
        "id": "EOTZffuDq0zH",
        "outputId": "39f46714-0646-410d-af4f-3d1bab998560"
      },
      "execution_count": null,
      "outputs": [
        {
          "output_type": "stream",
          "name": "stdout",
          "text": [
            "Base directory: /content/drive/My Drive/Two Classes\n",
            "Healthy directory: /content/drive/My Drive/Two Classes/Healthy\n",
            "Rejected directory: /content/drive/My Drive/Two Classes/Reject\n"
          ]
        }
      ]
    },
    {
      "cell_type": "code",
      "source": [
        "from tensorflow.keras.preprocessing.image import ImageDataGenerator\n",
        "\n",
        "# Define ImageDataGenerator for data augmentation and normalization\n",
        "data_gen = ImageDataGenerator(\n",
        "    rescale=1.0/255.0,\n",
        "    rotation_range=40,\n",
        "    width_shift_range=0.2,\n",
        "    height_shift_range=0.2,\n",
        "    shear_range=0.2,\n",
        "    zoom_range=0.2,\n",
        "    horizontal_flip=True,\n",
        "    fill_mode='nearest',\n",
        "    validation_split=0.2  # Set 20% of the data for validation\n",
        ")\n",
        "\n",
        "# Create training and validation generators\n",
        "train_generator = data_gen.flow_from_directory(\n",
        "    base_dir,\n",
        "    target_size=(150, 150),\n",
        "    batch_size=32,\n",
        "    class_mode='binary',\n",
        "    subset='training'  # Set as training data\n",
        ")\n",
        "\n",
        "validation_generator = data_gen.flow_from_directory(\n",
        "    base_dir,\n",
        "    target_size=(150, 150),\n",
        "    batch_size=32,\n",
        "    class_mode='binary',\n",
        "    subset='validation'  # Set as validation data\n",
        ")\n"
      ],
      "metadata": {
        "colab": {
          "base_uri": "https://localhost:8080/"
        },
        "id": "W2WKE1dOq-gW",
        "outputId": "bac652f7-4da9-4a1b-c9dc-1086bbcc53fe"
      },
      "execution_count": null,
      "outputs": [
        {
          "output_type": "stream",
          "name": "stdout",
          "text": [
            "Found 1920 images belonging to 3 classes.\n",
            "Found 480 images belonging to 3 classes.\n"
          ]
        }
      ]
    },
    {
      "cell_type": "code",
      "source": [
        "import tensorflow as tf\n",
        "from tensorflow.keras import layers, models\n",
        "\n",
        "# Load the base model\n",
        "base_model = tf.keras.applications.MobileNetV2(input_shape=(150, 150, 3), include_top=False, weights='imagenet')\n",
        "base_model.trainable = False  # Freeze the base model\n",
        "\n",
        "# Add custom classification head\n",
        "model = models.Sequential([\n",
        "    base_model,\n",
        "    layers.GlobalAveragePooling2D(),\n",
        "    layers.Dense(1, activation='sigmoid')  # Binary classification\n",
        "])\n",
        "\n",
        "model.compile(optimizer='adam', loss='binary_crossentropy', metrics=['accuracy'])\n",
        "\n",
        "model.summary()\n"
      ],
      "metadata": {
        "colab": {
          "base_uri": "https://localhost:8080/"
        },
        "id": "JZxhuiXcrNxX",
        "outputId": "b6131cf1-4d01-48eb-c01a-834b520f117a"
      },
      "execution_count": null,
      "outputs": [
        {
          "output_type": "stream",
          "name": "stderr",
          "text": [
            "WARNING:tensorflow:`input_shape` is undefined or non-square, or `rows` is not in [96, 128, 160, 192, 224]. Weights for input shape (224, 224) will be loaded as the default.\n"
          ]
        },
        {
          "output_type": "stream",
          "name": "stdout",
          "text": [
            "Model: \"sequential_1\"\n",
            "_________________________________________________________________\n",
            " Layer (type)                Output Shape              Param #   \n",
            "=================================================================\n",
            " mobilenetv2_1.00_224 (Func  (None, 5, 5, 1280)        2257984   \n",
            " tional)                                                         \n",
            "                                                                 \n",
            " global_average_pooling2d_1  (None, 1280)              0         \n",
            "  (GlobalAveragePooling2D)                                       \n",
            "                                                                 \n",
            " dense_1 (Dense)             (None, 1)                 1281      \n",
            "                                                                 \n",
            "=================================================================\n",
            "Total params: 2259265 (8.62 MB)\n",
            "Trainable params: 1281 (5.00 KB)\n",
            "Non-trainable params: 2257984 (8.61 MB)\n",
            "_________________________________________________________________\n"
          ]
        }
      ]
    },
    {
      "cell_type": "code",
      "source": [
        "history = model.fit(\n",
        "    train_generator,\n",
        "    steps_per_epoch=train_generator.samples // train_generator.batch_size,\n",
        "    epochs=10,\n",
        "    validation_data=validation_generator,\n",
        "    validation_steps=validation_generator.samples // validation_generator.batch_size\n",
        ")\n"
      ],
      "metadata": {
        "colab": {
          "base_uri": "https://localhost:8080/"
        },
        "id": "waW-To2UZm3d",
        "outputId": "505a0eb6-4901-4643-c012-8d4c9d2eedb5"
      },
      "execution_count": null,
      "outputs": [
        {
          "output_type": "stream",
          "name": "stdout",
          "text": [
            "Epoch 1/10\n",
            "60/60 [==============================] - 127s 2s/step - loss: -6.6933 - accuracy: 0.6656 - val_loss: -12.9302 - val_accuracy: 0.6667\n",
            "Epoch 2/10\n",
            "60/60 [==============================] - 74s 1s/step - loss: -19.4296 - accuracy: 0.6667 - val_loss: -25.8987 - val_accuracy: 0.6667\n",
            "Epoch 3/10\n",
            "60/60 [==============================] - 68s 1s/step - loss: -32.1739 - accuracy: 0.6667 - val_loss: -38.6158 - val_accuracy: 0.6667\n",
            "Epoch 4/10\n",
            "60/60 [==============================] - 77s 1s/step - loss: -44.9368 - accuracy: 0.6667 - val_loss: -51.1121 - val_accuracy: 0.6667\n",
            "Epoch 5/10\n",
            "60/60 [==============================] - 81s 1s/step - loss: -58.1194 - accuracy: 0.6667 - val_loss: -63.7827 - val_accuracy: 0.6667\n",
            "Epoch 6/10\n",
            "60/60 [==============================] - 79s 1s/step - loss: -71.3342 - accuracy: 0.6667 - val_loss: -76.4862 - val_accuracy: 0.6667\n",
            "Epoch 7/10\n",
            "60/60 [==============================] - 85s 1s/step - loss: -84.7064 - accuracy: 0.6667 - val_loss: -89.8792 - val_accuracy: 0.6667\n",
            "Epoch 8/10\n",
            "60/60 [==============================] - 87s 1s/step - loss: -97.2929 - accuracy: 0.6667 - val_loss: -103.4056 - val_accuracy: 0.6667\n",
            "Epoch 9/10\n",
            "60/60 [==============================] - 83s 1s/step - loss: -109.9413 - accuracy: 0.6667 - val_loss: -115.9829 - val_accuracy: 0.6667\n",
            "Epoch 10/10\n",
            "60/60 [==============================] - 81s 1s/step - loss: -122.7121 - accuracy: 0.6667 - val_loss: -129.4706 - val_accuracy: 0.6667\n"
          ]
        }
      ]
    },
    {
      "cell_type": "code",
      "source": [
        "loss, accuracy = model.evaluate(validation_generator)\n",
        "print(f'Validation loss: {loss}')\n",
        "print(f'Validation accuracy: {accuracy}')\n"
      ],
      "metadata": {
        "colab": {
          "base_uri": "https://localhost:8080/"
        },
        "id": "K76qjzXdww0z",
        "outputId": "0331b3b6-38c0-4c1d-c4c7-20a9dc9e6dd9"
      },
      "execution_count": null,
      "outputs": [
        {
          "output_type": "stream",
          "name": "stdout",
          "text": [
            "15/15 [==============================] - 15s 983ms/step - loss: -129.8945 - accuracy: 0.6667\n",
            "Validation loss: -129.8944549560547\n",
            "Validation accuracy: 0.6666666865348816\n"
          ]
        }
      ]
    },
    {
      "cell_type": "code",
      "source": [
        "model.save('/content/drive/My Drive/Two Classes/Two Classifier_model.h5')\n"
      ],
      "metadata": {
        "colab": {
          "base_uri": "https://localhost:8080/"
        },
        "id": "Ylw8OyJI1wpq",
        "outputId": "9f9ed303-e100-46d1-c2ea-c057e5630193"
      },
      "execution_count": null,
      "outputs": [
        {
          "output_type": "stream",
          "name": "stderr",
          "text": [
            "/usr/local/lib/python3.10/dist-packages/keras/src/engine/training.py:3103: UserWarning: You are saving your model as an HDF5 file via `model.save()`. This file format is considered legacy. We recommend using instead the native Keras format, e.g. `model.save('my_model.keras')`.\n",
            "  saving_api.save_model(\n"
          ]
        }
      ]
    },
    {
      "cell_type": "code",
      "source": [
        "import matplotlib.pyplot as plt\n",
        "\n",
        "acc = history.history['accuracy']\n",
        "val_acc = history.history['val_accuracy']\n",
        "loss = history.history['loss']\n",
        "val_loss = history.history['val_loss']\n",
        "\n",
        "epochs = range(len(acc))\n",
        "\n",
        "plt.plot(epochs, acc, 'r', label='Training accuracy')\n",
        "plt.plot(epochs, val_acc, 'b', label='Validation accuracy')\n",
        "plt.title('Training and validation accuracy')\n",
        "plt.legend(loc=0)\n",
        "plt.figure()\n",
        "\n",
        "plt.plot(epochs, loss, 'r', label='Training loss')\n",
        "plt.plot(epochs, val_loss, 'b', label='Validation loss')\n",
        "plt.title('Training and validation loss')\n",
        "plt.legend(loc=0)\n",
        "plt.figure()\n",
        "\n",
        "plt.show()\n"
      ],
      "metadata": {
        "colab": {
          "base_uri": "https://localhost:8080/",
          "height": 904
        },
        "id": "C34phBqc2dYy",
        "outputId": "19192593-ceb2-4bf3-a49a-6868a8e06f06"
      },
      "execution_count": null,
      "outputs": [
        {
          "output_type": "display_data",
          "data": {
            "text/plain": [
              "<Figure size 640x480 with 1 Axes>"
            ],
            "image/png": "[encoded data removed]"
          },
          "metadata": {}
        },
        {
          "output_type": "display_data",
          "data": {
            "text/plain": [
              "<Figure size 640x480 with 1 Axes>"
            ],
            "image/png": "[encoded data removed]"
          },
          "metadata": {}
        },
        {
          "output_type": "display_data",
          "data": {
            "text/plain": [
              "<Figure size 640x480 with 0 Axes>"
            ]
          },
          "metadata": {}
        }
      ]
    },
    {
      "cell_type": "code",
      "source": [
        "from tensorflow.keras.preprocessing import image\n",
        "import numpy as np\n",
        "\n",
        "# Load the trained model\n",
        "model_path = '/content/drive/MyDrive/Two Classes/Two Classifier_model.h5'\n",
        "model = tf.keras.models.load_model(model_path)\n",
        "\n",
        "# Function to preprocess an image\n",
        "def preprocess_image(image_path):\n",
        "    img = image.load_img(image_path, target_size=(150, 150))\n",
        "    img_array = image.img_to_array(img)\n",
        "    img_array = np.expand_dims(img_array, axis=0)  # Expand dimensions to create batch dimension\n",
        "    return img_array / 255.0  # Normalize pixel values\n",
        "\n",
        "# Path to the new tomato image\n",
        "new_tomato_image_path = '/content/tomato.jpeg'\n",
        "\n",
        "# Preprocess the image\n",
        "processed_image = preprocess_image(new_tomato_image_path)\n",
        "\n",
        "# Make a prediction\n",
        "prediction = model.predict(processed_image)\n",
        "\n",
        "# Interpret the prediction\n",
        "if prediction > 0.5:\n",
        "    print(\"Healthy tomato\")\n",
        "else:\n",
        "    print(\"Rejected tomato\")\n"
      ],
      "metadata": {
        "colab": {
          "base_uri": "https://localhost:8080/"
        },
        "id": "GpIvzFH42pkD",
        "outputId": "b09e9987-15a9-4cb4-d377-114f02b99b5e"
      },
      "execution_count": null,
      "outputs": [
        {
          "output_type": "stream",
          "name": "stdout",
          "text": [
            "1/1 [==============================] - 1s 1s/step\n",
            "Healthy tomato\n"
          ]
        }
      ]
    },
    {
      "cell_type": "code",
      "source": [
        "from tensorflow.keras.preprocessing import image\n",
        "import numpy as np\n",
        "\n",
        "# Load the trained model\n",
        "model_path = '/content/drive/MyDrive/Two Classes/Two Classifier_model.h5'\n",
        "model = tf.keras.models.load_model(model_path)\n",
        "\n",
        "# Function to preprocess an image\n",
        "def preprocess_image(image_path):\n",
        "    img = image.load_img(image_path, target_size=(150, 150))\n",
        "    img_array = image.img_to_array(img)\n",
        "    img_array = np.expand_dims(img_array, axis=0)  # Expand dimensions to create batch dimension\n",
        "    return img_array / 255.0  # Normalize pixel values\n",
        "\n",
        "# Path to the new tomato image\n",
        "new_tomato_image_path = '/content/untomato.jpg'\n",
        "\n",
        "# Preprocess the image\n",
        "processed_image = preprocess_image(new_tomato_image_path)\n",
        "\n",
        "# Make a prediction\n",
        "prediction = model.predict(processed_image)\n",
        "\n",
        "# Interpret the prediction\n",
        "if prediction > 0.5:\n",
        "    print(\"Healthy tomato\")\n",
        "else:\n",
        "    print(\"Rejected tomato\")\n"
      ],
      "metadata": {
        "id": "13bNBnaP6SHw",
        "colab": {
          "base_uri": "https://localhost:8080/"
        },
        "outputId": "254fa62f-312a-4db9-c742-e91db219b5ef"
      },
      "execution_count": null,
      "outputs": [
        {
          "output_type": "stream",
          "name": "stdout",
          "text": [
            "1/1 [==============================] - 1s 960ms/step\n",
            "Healthy tomato\n"
          ]
        }
      ]
    },
    {
      "cell_type": "code",
      "source": [
        "from tensorflow.keras.preprocessing import image\n",
        "import numpy as np\n",
        "\n",
        "# Load the trained model\n",
        "model_path = '/content/drive/MyDrive/Two Classes/Two Classifier_model.h5'\n",
        "model = tf.keras.models.load_model(model_path)\n",
        "\n",
        "# Function to preprocess an image\n",
        "def preprocess_image(image_path):\n",
        "    img = image.load_img(image_path, target_size=(150, 150))\n",
        "    img_array = image.img_to_array(img)\n",
        "    img_array = np.expand_dims(img_array, axis=0)  # Expand dimensions to create batch dimension\n",
        "    return img_array / 255.0  # Normalize pixel values\n",
        "\n",
        "# Path to the new tomato image\n",
        "new_tomato_image_path = '/content/waste.jpg'\n",
        "\n",
        "# Preprocess the image\n",
        "processed_image = preprocess_image(new_tomato_image_path)\n",
        "\n",
        "# Make a prediction\n",
        "prediction = model.predict(processed_image)\n",
        "\n",
        "# Interpret the prediction\n",
        "if prediction > 0.5:\n",
        "    print(\"Healthy tomato\")\n",
        "else:\n",
        "    print(\"Rejected tomato\")\n"
      ],
      "metadata": {
        "colab": {
          "base_uri": "https://localhost:8080/"
        },
        "id": "t4-WUml462oM",
        "outputId": "a1b86c89-b858-4342-9a0d-b40abd0fa11c"
      },
      "execution_count": null,
      "outputs": [
        {
          "output_type": "stream",
          "name": "stdout",
          "text": [
            "1/1 [==============================] - 1s 928ms/step\n",
            "Healthy tomato\n"
          ]
        }
      ]
    },
    {
      "cell_type": "code",
      "source": [
        "from tensorflow.keras.preprocessing import image\n",
        "import numpy as np\n",
        "\n",
        "# Load the trained model\n",
        "model_path = '/content/drive/MyDrive/Two Classes/Two Classifier_model.h5'\n",
        "model = tf.keras.models.load_model(model_path)\n",
        "\n",
        "# Function to preprocess an image\n",
        "def preprocess_image(image_path):\n",
        "    img = image.load_img(image_path, target_size=(150, 150))\n",
        "    img_array = image.img_to_array(img)\n",
        "    img_array = np.expand_dims(img_array, axis=0)  # Expand dimensions to create batch dimension\n",
        "    return img_array / 255.0  # Normalize pixel values\n",
        "\n",
        "# Path to the new tomato image\n",
        "new_tomato_image_path = '/content/waste.jpg'\n",
        "\n",
        "# Preprocess the image\n",
        "processed_image = preprocess_image(new_tomato_image_path)\n",
        "\n",
        "# Make a prediction\n",
        "prediction = model.predict(processed_image)\n",
        "\n",
        "# Interpret the prediction\n",
        "if prediction > 0.5:\n",
        "    print(\"Healthy tomato\")\n",
        "else:\n",
        "    print(\"Rejected tomato\")\n"
      ],
      "metadata": {
        "colab": {
          "base_uri": "https://localhost:8080/"
        },
        "id": "NpACffn-9hhO",
        "outputId": "013ae82c-de66-4f72-8c30-bf5e43056646"
      },
      "execution_count": null,
      "outputs": [
        {
          "output_type": "stream",
          "name": "stdout",
          "text": [
            "1/1 [==============================] - 2s 2s/step\n",
            "Healthy tomato\n"
          ]
        }
      ]
    },
    {
      "cell_type": "code",
      "source": [
        "import tensorflow as tf\n",
        "from tensorflow.keras.preprocessing import image\n",
        "import numpy as np\n",
        "\n",
        "# Load the trained model\n",
        "model_path = '/content/drive/MyDrive/Two Classes/Two Classifier_model.h5'\n",
        "model = tf.keras.models.load_model(model_path)\n",
        "\n",
        "# Function to preprocess an image\n",
        "def preprocess_image(image_path):\n",
        "    img = image.load_img(image_path, target_size=(150, 150))\n",
        "    img_array = image.img_to_array(img)\n",
        "    img_array = np.expand_dims(img_array, axis=0)  # Expand dimensions to create batch dimension\n",
        "    return img_array / 255.0  # Normalize pixel values\n",
        "\n",
        "# Path to the new tomato image\n",
        "new_tomato_image_path = '/content/ripe.jpg'\n",
        "\n",
        "# Preprocess the image\n",
        "processed_image = preprocess_image(new_tomato_image_path)\n",
        "\n",
        "# Make a prediction\n",
        "prediction = model.predict(processed_image)\n",
        "\n",
        "# Print the prediction probabilities\n",
        "print(f\"Prediction probabilities: {prediction}\")\n",
        "\n",
        "# Interpret the prediction\n",
        "if prediction > 0.5:\n",
        "    print(\"Healthy tomato\")\n",
        "else:\n",
        "    print(\"Rejected tomato\")\n"
      ],
      "metadata": {
        "colab": {
          "base_uri": "https://localhost:8080/"
        },
        "id": "onHgnQlXlCnG",
        "outputId": "f6479991-d623-4ed3-a830-e132b66c0a71"
      },
      "execution_count": null,
      "outputs": [
        {
          "output_type": "stream",
          "name": "stdout",
          "text": [
            "1/1 [==============================] - 1s 1s/step\n",
            "Prediction probabilities: [[1.]]\n",
            "Healthy tomato\n"
          ]
        }
      ]
    }
  ]
}